{
 "cells": [
  {
   "cell_type": "markdown",
   "id": "48b331c9",
   "metadata": {},
   "source": [
    "# Performance Analysis"
   ]
  },
  {
   "cell_type": "code",
   "execution_count": null,
   "id": "bb8158b5",
   "metadata": {},
   "outputs": [],
   "source": [
    "from data_loader import read_market_data\n",
    "from engine import TradingEngine\n",
    "from strategies import MomentumStrategy, MovingAverageCrossOver\n",
    "from reporting import calculate_total_return, calculate_periodic_return, calculate_sharpe_ratio, calculate_max_drawdown\n",
    "import matplotlib.pyplot as plt\n",
    "import statistics\n",
    "import math\n",
    "\n",
    "# Constants\n",
    "FILENAME = 'market_data.csv'\n",
    "INITIAL_CASH = 100000.0\n"
   ]
  },
  {
   "cell_type": "code",
   "execution_count": 3,
   "id": "ab6a0ddd",
   "metadata": {},
   "outputs": [
    {
     "ename": "NameError",
     "evalue": "name 'MomentumStrategy' is not defined",
     "output_type": "error",
     "traceback": [
      "\u001b[1;31m---------------------------------------------------------------------------\u001b[0m",
      "\u001b[1;31mNameError\u001b[0m                                 Traceback (most recent call last)",
      "Cell \u001b[1;32mIn[3], line 4\u001b[0m\n\u001b[0;32m      1\u001b[0m \u001b[38;5;66;03m# Loading the data + Simulation\u001b[39;00m\n\u001b[0;32m      2\u001b[0m market_data_ticks \u001b[38;5;241m=\u001b[39m read_market_data(FILENAME)\n\u001b[1;32m----> 4\u001b[0m momentum_strategy \u001b[38;5;241m=\u001b[39m \u001b[43mMomentumStrategy\u001b[49m(window\u001b[38;5;241m=\u001b[39m\u001b[38;5;241m15\u001b[39m)\n\u001b[0;32m      5\u001b[0m crossover_strategy \u001b[38;5;241m=\u001b[39m MovingAverageCrossOver(short_window\u001b[38;5;241m=\u001b[39m\u001b[38;5;241m10\u001b[39m, long_window\u001b[38;5;241m=\u001b[39m\u001b[38;5;241m30\u001b[39m)\n\u001b[0;32m      6\u001b[0m strategies \u001b[38;5;241m=\u001b[39m [momentum_strategy, crossover_strategy]\n",
      "\u001b[1;31mNameError\u001b[0m: name 'MomentumStrategy' is not defined"
     ]
    }
   ],
   "source": [
    "# Loading the data + Simulation\n",
    "market_data_ticks = read_market_data(FILENAME)\n",
    "\n",
    "momentum_strategy = MomentumStrategy(window=15)\n",
    "crossover_strategy = MovingAverageCrossOver(short_window=10, long_window=30)\n",
    "strategies = [momentum_strategy, crossover_strategy]\n",
    "\n",
    "engine = TradingEngine(strategies, cash=INITIAL_CASH)\n",
    "\n",
    "engine.run(market_data_ticks)"
   ]
  }
 ],
 "metadata": {
  "kernelspec": {
   "display_name": "finmpy",
   "language": "python",
   "name": "python3"
  },
  "language_info": {
   "codemirror_mode": {
    "name": "ipython",
    "version": 3
   },
   "file_extension": ".py",
   "mimetype": "text/x-python",
   "name": "python",
   "nbconvert_exporter": "python",
   "pygments_lexer": "ipython3",
   "version": "3.10.18"
  }
 },
 "nbformat": 4,
 "nbformat_minor": 5
}
