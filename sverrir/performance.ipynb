{
 "cells": [
  {
   "cell_type": "markdown",
   "id": "48b331c9",
   "metadata": {},
   "source": [
    "# Test the mutable vs immutable classes"
   ]
  },
  {
   "cell_type": "code",
   "execution_count": null,
   "id": "bb8158b5",
   "metadata": {},
   "outputs": [],
   "source": [
    "from models import MarketDataPoint, Order\n",
    "from datetime import datetime\n",
    "\n",
    "# 1. Create a mutable Order and successfully change it\n",
    "my_order = Order('AAPL', 10, 175.50, 'NEW')\n",
    "my_order.status = 'FILLED' # This works perfectly.\n",
    "\n",
    "# 2. Create an immutable MarketDataPoint\n",
    "my_datapoint = MarketDataPoint(datetime.now(), 'AAPL', 175.50)\n",
    "# The next line is commented out because it would CRASH the program.\n",
    "#my_datapoint.price = 176.00 # <-- This raises a FrozenInstanceError.\n",
    "#so it works"
   ]
  },
  {
   "cell_type": "markdown",
   "id": "ec6b8261",
   "metadata": {},
   "source": []
  }
 ],
 "metadata": {
  "kernelspec": {
   "display_name": "finmpy",
   "language": "python",
   "name": "python3"
  },
  "language_info": {
   "codemirror_mode": {
    "name": "ipython",
    "version": 3
   },
   "file_extension": ".py",
   "mimetype": "text/x-python",
   "name": "python",
   "nbconvert_exporter": "python",
   "pygments_lexer": "ipython3",
   "version": "3.10.18"
  }
 },
 "nbformat": 4,
 "nbformat_minor": 5
}
